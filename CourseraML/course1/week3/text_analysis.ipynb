{
 "cells": [
  {
   "cell_type": "code",
   "execution_count": 1,
   "metadata": {},
   "outputs": [],
   "source": [
    "import numpy as nm\n",
    "import re\n",
    "import scipy as sc\n",
    "f = open('sentences.txt', 'r')\n",
    "d = {}\n",
    "k = 0\n",
    "l = 0\n",
    "A = []\n",
    "for line in f: \n",
    "    l += 1\n",
    "    line.lower()\n",
    "    a = line.lower()\n",
    "    A.append(a)\n",
    "    e = re.split('[^a-z]', a)\n",
    "    i = 0\n",
    "    while (i < len(e)):\n",
    "        if (e[i] == ''):\n",
    "            del(e[i])\n",
    "        else:\n",
    "            i = i + 1 \n",
    "    i = 0\n",
    "    t = len(e)\n",
    "    while (i < t):\n",
    "        if e[i] not in d:\n",
    "            d[e[i]] = k\n",
    "            k += 1\n",
    "        i += 1\n",
    "n = len(d)\n",
    "a = sc.zeros((l,n), int)\n",
    "i = 0\n",
    "while (i < l):\n",
    "    j = 0\n",
    "    while (j < n):\n",
    "        a[i][j] = 0\n",
    "        for word in d:\n",
    "            if (d[word] == j):\n",
    "                w = word\n",
    "        r = re.split('[^a-z]', A[i])\n",
    "        m = len(r)\n",
    "        x = 0\n",
    "        while (x < m):\n",
    "            if (w == r[x]):\n",
    "                a[i][j] += 1\n",
    "            x += 1\n",
    "        j += 1\n",
    "    i += 1\n",
    "o = 1\n",
    "y = sc.zeros(l, float)\n",
    "from scipy import spatial\n",
    "while (o < l):\n",
    "    y[o] = sc.spatial.distance.cosine(a[o], a[0])\n",
    "    o += 1\n",
    "o = 2\n",
    "r = y[1]\n",
    "c = 1\n",
    "while (o < l):\n",
    "    if (r >= y[o]):\n",
    "        c = o\n",
    "        r = y[o]\n",
    "    o += 1\n",
    "f = -1\n",
    "o = 1\n",
    "while (o < l):\n",
    "    if (r < y[o]):\n",
    "        f = 1\n",
    "    o += 1\n",
    "if (f == -1):\n",
    "    file_obj = open('submission-1.txt', 'w')\n",
    "    string = str(1) + ' ' +str(2)\n",
    "    file_obj.write(string)\n",
    "    file_obj.close()\n",
    "else:\n",
    "    o = 1\n",
    "    b = 1\n",
    "    f = y[1]\n",
    "    while (o < l):\n",
    "        if (y[o] > r and y[o] <= f):\n",
    "            f = y[o]\n",
    "            b = o\n",
    "        o += 1\n",
    "    file_obj = open('submission-1.txt', 'w')\n",
    "    string = str(c) + ' ' +str(b)\n",
    "    file_obj.write(string)\n",
    "    file_obj.close()"
   ]
  },
  {
   "cell_type": "code",
   "execution_count": 24,
   "metadata": {
    "collapsed": true
   },
   "outputs": [],
   "source": []
  },
  {
   "cell_type": "code",
   "execution_count": 110,
   "metadata": {
    "collapsed": true
   },
   "outputs": [],
   "source": []
  },
  {
   "cell_type": "code",
   "execution_count": null,
   "metadata": {
    "collapsed": true
   },
   "outputs": [],
   "source": []
  }
 ],
 "metadata": {
  "kernelspec": {
   "display_name": "Python 3",
   "language": "python",
   "name": "python3"
  },
  "language_info": {
   "codemirror_mode": {
    "name": "ipython",
    "version": 3
   },
   "file_extension": ".py",
   "mimetype": "text/x-python",
   "name": "python",
   "nbconvert_exporter": "python",
   "pygments_lexer": "ipython3",
   "version": "3.5.2"
  },
  "toc": {
   "nav_menu": {},
   "number_sections": true,
   "sideBar": true,
   "skip_h1_title": false,
   "title_cell": "Table of Contents",
   "title_sidebar": "Contents",
   "toc_cell": false,
   "toc_position": {},
   "toc_section_display": true,
   "toc_window_display": false
  },
  "varInspector": {
   "cols": {
    "lenName": 16,
    "lenType": 16,
    "lenVar": 40
   },
   "kernels_config": {
    "python": {
     "delete_cmd_postfix": "",
     "delete_cmd_prefix": "del ",
     "library": "var_list.py",
     "varRefreshCmd": "print(var_dic_list())"
    },
    "r": {
     "delete_cmd_postfix": ") ",
     "delete_cmd_prefix": "rm(",
     "library": "var_list.r",
     "varRefreshCmd": "cat(var_dic_list()) "
    }
   },
   "types_to_exclude": [
    "module",
    "function",
    "builtin_function_or_method",
    "instance",
    "_Feature"
   ],
   "window_display": false
  }
 },
 "nbformat": 4,
 "nbformat_minor": 1
}
