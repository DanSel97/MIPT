{
 "cells": [
  {
   "cell_type": "markdown",
   "metadata": {},
   "source": [
    "# Исследуем наличие минимума у функции $f(x) = xe^x + sin(e^x)$ на отрезке $x \\in [-5, 0]$"
   ]
  },
  {
   "cell_type": "markdown",
   "metadata": {},
   "source": [
    "Вычислим производную $f^{'}(x) = xe^x + e^x + e^x cos(e^x) = e^x(1 + x + cos(e^x))$. Её знак, а значит, и характер монотонности функции $f(x)$ определяется знаком функции $g(x) = 1 + x + cos(e^x)$. Определим характер монотонотонности данной функции на отрезке $x \\in [-5, 0]$. Для этого вычислим производную $g^{'}(x) = 1 - e^xsin(e^x)$. Замечаем, что на отрезке $x \\in [-5, 0]$ $e^x \\leq 1 \\rightarrow |e^xsin(e^x)| \\leq 1 \\rightarrow 1 + e^xsin(e^x) > 0$ (достигалось бы нуля, если было выполнено одновременно $e^x = 1, sin(e^x) = -1$) Таким образом, согласно теоремам из матанализа, получаем, что функция $g(x)$ монотонно возрастает на отрезке $x \\in [-5,0]$, тогда на этом же отрезке $g(x)$ может иметь не больше одного нуля. Проверим это, вычислив $g(-5) = 1 + (-5) + cos(e^{-5}) < 0$ и $g(0) = 1 + 0 + cos(e^0) > 0$. В силу непрерывности $g(x)$ на отрезке $[-5, 0]$ по теореме Коши о промежуточном значении, существует корень уравнения $g(x_0) = 0, x_0 \\in (-5, 0)$. Из монотонного возрастания $g(x)$ на $x \\in [-5, 0]$ следует, что $g(x) < 0$ при $x \\in [-5, x_0)$ и $g(x) > 0$ при $x \\in (x_0, 0]$. Таким образом, $f^{'}(x) > 0$ при $x \\in (x_0, 0]$ и $f^{'}(x) < 0$ при $x \\in [-5, x_0), f^{'}(x_0) = 0$. Из достаточных условий экстремума функции одной переменной это означает, что $f(x)$ имеет минимум в точке $x_0 \\in (-5, 0)$, являющейся корнем уравнения $1 + x + cos(e^x) = 0$, при этом других минимумов функции $f(x)$ на отрезке $[-5, 0]$ нет. Это показывает, что наша функция $f(x)$ является унимодальной на отрезке $[-5,0]$, так что при написании кода можем пользоваться корректностью метода дихотомии, который мы изменим, деля отрезок в другом отношении."
   ]
  },
  {
   "cell_type": "markdown",
   "metadata": {},
   "source": [
    "# Напишем код, аналогичный методу дихотомии с постоянным шагом t"
   ]
  },
  {
   "cell_type": "code",
   "execution_count": 9,
   "metadata": {},
   "outputs": [
    {
     "data": {
      "image/png": "[encoded data removed]",
      "text/plain": [
       "<matplotlib.figure.Figure at 0x7f3999c1df28>"
      ]
     },
     "metadata": {},
     "output_type": "display_data"
    }
   ],
   "source": [
    "import math\n",
    "import numpy as np\n",
    "from pylab import *\n",
    "%matplotlib inline\n",
    "def f(x): #Определяем целевую функцию\n",
    "    return(x * math.exp(x) + math.sin(math.exp(x)))\n",
    "eps = 1e-7\n",
    "a = -5\n",
    "b = 0\n",
    "def x(t, a, b): #Определяем функцию деления отрезка в заданной пропорции\n",
    "    return(a + (b - a)*t)\n",
    "def experiment1(f, x, eps, t, a, b): #Эксперимент1\n",
    "    a0 = a\n",
    "    b0 = b\n",
    "    c0 = x(t, a0, b0)\n",
    "    s = [c0]\n",
    "    k = 0\n",
    "    while(max(b0 - c0, c0 - a0) >= eps):\n",
    "        y = x(t, a0, c0)\n",
    "        f1 = f(y)\n",
    "        if (f1 <= f(c0)):\n",
    "            b0 = c0\n",
    "            c0 = y\n",
    "            k += 1\n",
    "            s.append(c0)\n",
    "        else:\n",
    "            z = x(t, y, b0)\n",
    "            if (z >= c0): #точка z может лежать как слева от c0, так и справа#\n",
    "#На самом деле, я не уверен, что один из варинатов может быть\n",
    "#Вроде как всегда выполнено $z >= c0$ и это можно показать по формулам, хотя \n",
    "#я не берусь это утверждать\n",
    "#Без первого условия код виснет, так что рассмотрю оба варианта\n",
    "#В крайнем случае, будет просто кусок неисполняемого кода\n",
    "                f2 = f(z)\n",
    "                if (f(c0) <= f2):\n",
    "                    a0 = y\n",
    "                    b0 = z\n",
    "                    c0 = x(t, y, z)\n",
    "                    s.append(c0)\n",
    "                else:\n",
    "                    a0 = c0\n",
    "                    c0 = x(t, a0, b0)\n",
    "                    s.append(c0)\n",
    "                k += 1\n",
    "            else:\n",
    "                f2 = f(z)\n",
    "                if (f(c0) >= f2):\n",
    "                    a0 = y\n",
    "                    b0 = c0\n",
    "                    c0 = x(t, y, z)\n",
    "                    s.append(c0)\n",
    "                else: #если f(c0) <= f(z) и f(c0) < f(y), y < z < c0, то\n",
    "                    #в силу унимодальности f должно быть f(z) < f(y)\n",
    "                    a0 = z\n",
    "                    c0 = x(t, a0, b0)\n",
    "                    s.append(c0)\n",
    "                k += 1\n",
    "    return(k)\n",
    "experiments1 = np.arange(0.05, 0.95, 0.01) #генерируем массив t от 0.05 до \n",
    "    #0.95 с шагом 0.01\n",
    "#ВОТ НА ЭТОМ МЕСТЕ Я БЕЗ ПОНЯТИЯ, ЗАЧЕМ ЗАПУСКАТЬ АЛГОРИТМ НЕСКОЛЬКО РАЗ\n",
    "#При заданных a,b,eps,f алгоритм будет детерминированным при фиксированном t\n",
    "times = 5 #число проведения экспериментов \n",
    "i = 0 \n",
    "results1 = [experiment1(f, x, eps, t, a, b) for t in experiments1] #в этот\n",
    "    #массив будем записывать усреднённое значение после times экспериментов\n",
    "while (i < times - 1): #проведение экспериментов с фиксированным шагом\n",
    "    resi = [experiment1(f, x, eps, t, a, b) for t in experiments1]\n",
    "    for j in range(len(results1)):\n",
    "        results1[j] += resi[j]\n",
    "    i += 1\n",
    "for i in range(len(results1)):\n",
    "    results1[i] = results1[i]/times\n",
    "figure() #Строим график N_mean(t)\n",
    "plot(experiments1, results1, 'r')\n",
    "xlabel('t')\n",
    "ylabel('$N_{mean}$')\n",
    "title('$N_{mean} = N_{mean}(t)$')\n",
    "show() #Видим характерный минимум около t = 0.5 - метода дихотомии \n",
    "#для нашей точности eps минимальное число необходимых итераций чуть больше 20"
   ]
  },
  {
   "cell_type": "markdown",
   "metadata": {},
   "source": [
    "# Напишем код, аналогичный методу дихотомии со случайным шагом t"
   ]
  },
  {
   "cell_type": "code",
   "execution_count": 10,
   "metadata": {},
   "outputs": [
    {
     "data": {
      "image/png": "[encoded data removed]",
      "text/plain": [
       "<matplotlib.figure.Figure at 0x7f3999c55390>"
      ]
     },
     "metadata": {},
     "output_type": "display_data"
    }
   ],
   "source": [
    "import random\n",
    "def experiment2(f, x, K, a, b): #Эксперимент2 со случайным шагом с K \n",
    "                                        #итерациями\n",
    "#Использую предыдущий код с небольшими изменениями\n",
    "    a0 = a\n",
    "    b0 = b\n",
    "    t = random.uniform(0, 1) #рандомизацию t провожу при каждом k\n",
    "#единственный раз; можно было бы рандомизировать и при выборах y, z\n",
    "    c0 = x(t, a0, b0)\n",
    "    s = [c0]\n",
    "    k = 0\n",
    "    while(k < K):\n",
    "        t = random.uniform(0, 1)\n",
    "        y = x(t, a0, c0)\n",
    "        f1 = f(y)\n",
    "        if (f1 <= f(c0)):\n",
    "            b0 = c0\n",
    "            c0 = y\n",
    "            k += 1\n",
    "            s.append(c0)\n",
    "        else:\n",
    "            z = x(t, y, b0)\n",
    "            if (z >= c0): #точка z может лежать как слева от c0, так и справа#\n",
    "                f2 = f(z)\n",
    "                if (f(c0) <= f2):\n",
    "                    a0 = y\n",
    "                    b0 = z\n",
    "                    c0 = x(t, y, z)\n",
    "                    s.append(c0)\n",
    "                else:\n",
    "                    a0 = c0\n",
    "                    c0 = x(t, a0, b0)\n",
    "                    s.append(c0)\n",
    "                k += 1\n",
    "            else:\n",
    "                f2 = f(z)\n",
    "                if (f(c0) >= f2):\n",
    "                    a0 = y\n",
    "                    b0 = c0\n",
    "                    c0 = x(t, y, z)\n",
    "                    s.append(c0)\n",
    "                else: #если f(c0) <= f(z) и f(c0) < f(y), y < z < c0, то\n",
    "                    #в силу унимодальности f должно быть f(z) < f(y)\n",
    "                    a0 = z\n",
    "                    c0 = x(t, a0, b0)\n",
    "                    s.append(c0)\n",
    "                k += 1\n",
    "    return(f(s[k]))\n",
    "times = 33 #число экспериментов для усреднения\n",
    "i = 0 \n",
    "Nmax = 100 #максимальное число итераций\n",
    "experiments2 = np.arange(0, Nmax, 1) #генерируем массив числа допустимых \n",
    "    #итераций для алгоритма\n",
    "results2 = [experiment2(f, x, K, a, b) for K in experiments2] #в этот\n",
    "    #массив будем записывать усреднённое значение после times экспериментов\n",
    "Result = [results2]\n",
    "while (i < times - 1): #проведение экспериментов с фиксированным шагом\n",
    "    resi = [experiment2(f, x, K, a, b) for K in experiments2]\n",
    "    Result.append(resi)\n",
    "    i += 1\n",
    "Mean = []\n",
    "Std = []\n",
    "MeanStd1 = []\n",
    "MeanStd2 = []\n",
    "len1 = len(experiments2)\n",
    "for i in range(len1): #проводим times экспериментов и вычисляем mean, std\n",
    "    Mean.append(mean([Result[k][i] for k in range(times)]))\n",
    "    Std.append(std([Result[k][i] for k in range(times)]))\n",
    "    MeanStd1.append(mean([Result[k][i] for k in range(times)]) +\n",
    "                    std([Result[k][i] for k in range(times)]))\n",
    "    MeanStd2.append(mean([Result[k][i] for k in range(times)]) -\n",
    "                    std([Result[k][i] for k in range(times)]))\n",
    "figure() #Строим график f(x_K)_mean(K)\n",
    "plot(experiments2, Mean, 'r', label=\"Mean\")\n",
    "plot(experiments2, MeanStd1, 'g', label=\"Mean + Std\")\n",
    "plot(experiments2, MeanStd2, 'b', label=\"Mean - Std\")\n",
    "plt.legend()\n",
    "xlabel('K')\n",
    "ylabel('$f(x_K)_{mean}$')\n",
    "title('$f(x_K)_{mean} = f(x_K)_{mean}(K)$')\n",
    "show() #Видим, что метод сходится к минимуму довольно быстро, достаточно \n",
    "#около 15 шагов при усреднении в 33 экспериментах, чтобы дисперсия была малой\n",
    "#Полученное число шагов будет меньше, чем при фиксированным шаге\n",
    "#Хотя, чтобы утверждать это, требуется быть уверенным, что мы добились \n",
    "#eps-точности. Отдельно я не проверял это. Этот результат позволяет сделать \n",
    "#вывод, что рандомизация бывает полезно. Конечно, мы не можем на основании \n",
    "#этого утверждать, что предложенный метод лучше обычного метода дихотомии -\n",
    "#это зависит от типа минимизируемой функции и eps-точности."
   ]
  },
  {
   "cell_type": "code",
   "execution_count": null,
   "metadata": {},
   "outputs": [],
   "source": []
  }
 ],
 "metadata": {
  "kernelspec": {
   "display_name": "Python 3",
   "language": "python",
   "name": "python3"
  },
  "language_info": {
   "codemirror_mode": {
    "name": "ipython",
    "version": 3
   },
   "file_extension": ".py",
   "mimetype": "text/x-python",
   "name": "python",
   "nbconvert_exporter": "python",
   "pygments_lexer": "ipython3",
   "version": "3.5.2"
  },
  "toc": {
   "nav_menu": {},
   "number_sections": true,
   "sideBar": true,
   "skip_h1_title": false,
   "title_cell": "Table of Contents",
   "title_sidebar": "Contents",
   "toc_cell": false,
   "toc_position": {},
   "toc_section_display": true,
   "toc_window_display": false
  },
  "varInspector": {
   "cols": {
    "lenName": 16,
    "lenType": 16,
    "lenVar": 40
   },
   "kernels_config": {
    "python": {
     "delete_cmd_postfix": "",
     "delete_cmd_prefix": "del ",
     "library": "var_list.py",
     "varRefreshCmd": "print(var_dic_list())"
    },
    "r": {
     "delete_cmd_postfix": ") ",
     "delete_cmd_prefix": "rm(",
     "library": "var_list.r",
     "varRefreshCmd": "cat(var_dic_list()) "
    }
   },
   "types_to_exclude": [
    "module",
    "function",
    "builtin_function_or_method",
    "instance",
    "_Feature"
   ],
   "window_display": false
  }
 },
 "nbformat": 4,
 "nbformat_minor": 2
}
